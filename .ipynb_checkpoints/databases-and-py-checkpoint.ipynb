{
 "cells": [
  {
   "cell_type": "markdown",
   "metadata": {
    "azdata_cell_guid": "d7b89799-a102-479f-87b7-f2759ff1962e"
   },
   "source": [
    "# Exercises: Working with Databases in Python\n",
    "\n",
    "For the exercises, we will be practicing the steps outlined in this [article](https://towardsdatascience.com/do-you-know-python-has-a-built-in-database-d553989c87bd). You can skip the portion where the author downloads a separate SQL client to examine the database. "
   ]
  },
  {
   "cell_type": "markdown",
   "metadata": {
    "azdata_cell_guid": "89a0b6d9-821d-44f5-9795-9519809b9108"
   },
   "source": [
    "## Import Libraries\n",
    "\n",
    "We will need `pandas` and `sqlite3`. SQLite is a small, self-contained database engine that comes with Python so you will not have to do any additional installations for this lesson. If you want to connect to a different database engine, such as SQL server, you may need additional libraries such as `sqlalchemy` or `pyodbc` and a tool called a driver which helps to connect a database to an application.\n"
   ]
  },
  {
   "cell_type": "code",
   "execution_count": 6,
   "metadata": {
    "azdata_cell_guid": "865655b0-22e9-47f4-a5df-4bfe97dda4a3",
    "tags": []
   },
   "outputs": [],
   "source": [
    "# Import sqlite3 and pandas.\n",
    "import sqlite3 as sl\n",
    "import pandas as pd"
   ]
  },
  {
   "cell_type": "markdown",
   "metadata": {
    "azdata_cell_guid": "be8436e2-68be-47f8-9fc9-06c235a6a128"
   },
   "source": [
    "## Create a Database\n",
    "\n",
    "In the article, the author shows how to use `sqlite3` to open a connection to an existing database or create a new one. Use this method to make a new database called `exercises.db`."
   ]
  },
  {
   "cell_type": "code",
   "execution_count": 7,
   "metadata": {
    "azdata_cell_guid": "707abc33-c6ee-416e-9358-c799f1fcbb12"
   },
   "outputs": [],
   "source": [
    "# Create a new database called exercises.db.\n",
    "conn = sl.connect('exercises.db')"
   ]
  },
  {
   "cell_type": "markdown",
   "metadata": {
    "azdata_cell_guid": "dc9df060-ddc9-4573-bd74-3c97323f85a7"
   },
   "source": [
    "## Create a Table\n",
    "\n",
    "Follow the steps in the article to create a table called `favorite_books.db`. This table should include columns for the title, author, and a short description of why it is a favorite."
   ]
  },
  {
   "cell_type": "code",
   "execution_count": 9,
   "metadata": {
    "azdata_cell_guid": "3cc6b80e-3fa2-4d2e-b2a9-1ea5d68ba01e"
   },
   "outputs": [],
   "source": [
    "# Create a new table in your database.\n",
    "with conn:\n",
    "    conn.execute(\"\"\"\n",
    "        CREATE TABLE favorite_books (\n",
    "            id INTEGER NOT NULL PRIMARY KEY AUTOINCREMENT,\n",
    "            title TEXT,\n",
    "            author TEXT,\n",
    "            description TEXT\n",
    "        );\n",
    "    \"\"\")"
   ]
  },
  {
   "cell_type": "markdown",
   "metadata": {
    "azdata_cell_guid": "e9acec60-1485-45c8-9f12-997f959d44cc"
   },
   "source": [
    "## Insert Records\n",
    "\n",
    "Add 3 entries to your table for your top 3 favorite books."
   ]
  },
  {
   "cell_type": "code",
   "execution_count": 14,
   "metadata": {
    "azdata_cell_guid": "c7b8e386-f3f4-42ad-aa91-a2da2e7904a5"
   },
   "outputs": [],
   "source": [
    "# Add your 3 favorite books to your table.\n",
    "sl = 'INSERT INTO favorite_books (id, title, author, description) values(?, ?, ?, ?)'\n",
    "data = [\n",
    "    (1, 'The Bloody Chamber', 'Angela Carter', 'Feminist re-tellings of fairy tales'),\n",
    "    (2, 'Vurt', 'Jeff Noon', 'Psychadelic pseudo-cyberpunk'),\n",
    "    (3, 'Don Quixote', 'Miguel de Cervantes', 'The Spanish Classic of Chivalry')\n",
    "]"
   ]
  },
  {
   "cell_type": "code",
   "execution_count": 15,
   "metadata": {},
   "outputs": [],
   "source": [
    "with conn:\n",
    "    conn.executemany(sl, data)"
   ]
  },
  {
   "cell_type": "markdown",
   "metadata": {
    "azdata_cell_guid": "b2e48ba7-b418-4418-bb16-598fb82b964c"
   },
   "source": [
    "## Query Your Table\n",
    "\n",
    "Write a `SELECT` query to output the 3 records in your table."
   ]
  },
  {
   "cell_type": "code",
   "execution_count": 16,
   "metadata": {
    "azdata_cell_guid": "c341e7e2-d635-4c26-b744-237c762f7f41",
    "tags": []
   },
   "outputs": [
    {
     "data": {
      "text/html": [
       "<div>\n",
       "<style scoped>\n",
       "    .dataframe tbody tr th:only-of-type {\n",
       "        vertical-align: middle;\n",
       "    }\n",
       "\n",
       "    .dataframe tbody tr th {\n",
       "        vertical-align: top;\n",
       "    }\n",
       "\n",
       "    .dataframe thead th {\n",
       "        text-align: right;\n",
       "    }\n",
       "</style>\n",
       "<table border=\"1\" class=\"dataframe\">\n",
       "  <thead>\n",
       "    <tr style=\"text-align: right;\">\n",
       "      <th></th>\n",
       "      <th>id</th>\n",
       "      <th>title</th>\n",
       "      <th>author</th>\n",
       "      <th>description</th>\n",
       "    </tr>\n",
       "  </thead>\n",
       "  <tbody>\n",
       "    <tr>\n",
       "      <th>0</th>\n",
       "      <td>1</td>\n",
       "      <td>The Bloody Chamber</td>\n",
       "      <td>Angela Carter</td>\n",
       "      <td>Feminist re-tellings of fairy tales</td>\n",
       "    </tr>\n",
       "    <tr>\n",
       "      <th>1</th>\n",
       "      <td>2</td>\n",
       "      <td>Vurt</td>\n",
       "      <td>Jeff Noon</td>\n",
       "      <td>Psychadelic pseudo-cyberpunk</td>\n",
       "    </tr>\n",
       "    <tr>\n",
       "      <th>2</th>\n",
       "      <td>3</td>\n",
       "      <td>Don Quixote</td>\n",
       "      <td>Miguel de Cervantes</td>\n",
       "      <td>The Spanish Classic of Chivalry</td>\n",
       "    </tr>\n",
       "  </tbody>\n",
       "</table>\n",
       "</div>"
      ],
      "text/plain": [
       "   id               title               author  \\\n",
       "0   1  The Bloody Chamber        Angela Carter   \n",
       "1   2                Vurt            Jeff Noon   \n",
       "2   3         Don Quixote  Miguel de Cervantes   \n",
       "\n",
       "                           description  \n",
       "0  Feminist re-tellings of fairy tales  \n",
       "1         Psychadelic pseudo-cyberpunk  \n",
       "2      The Spanish Classic of Chivalry  "
      ]
     },
     "execution_count": 16,
     "metadata": {},
     "output_type": "execute_result"
    }
   ],
   "source": [
    "# Write your SELECT query here.\n",
    "pd.read_sql_query('select * from favorite_books', conn)"
   ]
  },
  {
   "cell_type": "markdown",
   "metadata": {
    "azdata_cell_guid": "2127737d-71cd-4f0d-a84e-b1db8ad54af7"
   },
   "source": [
    "## Create a New Table with Pandas\n",
    "\n",
    "Create a new table called `favorite_movies` with your top 3 favorite movies. Each movie should have an id and a title. This time, use Pandas to first make a dataframe and then write the dataframe to SQL. Write a `SELECT` query to confirm that the new table does have your top 3 favorite movies."
   ]
  },
  {
   "cell_type": "code",
   "execution_count": 19,
   "metadata": {
    "azdata_cell_guid": "b4b6dd20-ccc0-42e7-b1e7-79d8596b3f9c"
   },
   "outputs": [
    {
     "data": {
      "text/html": [
       "<div>\n",
       "<style scoped>\n",
       "    .dataframe tbody tr th:only-of-type {\n",
       "        vertical-align: middle;\n",
       "    }\n",
       "\n",
       "    .dataframe tbody tr th {\n",
       "        vertical-align: top;\n",
       "    }\n",
       "\n",
       "    .dataframe thead th {\n",
       "        text-align: right;\n",
       "    }\n",
       "</style>\n",
       "<table border=\"1\" class=\"dataframe\">\n",
       "  <thead>\n",
       "    <tr style=\"text-align: right;\">\n",
       "      <th></th>\n",
       "      <th>title</th>\n",
       "      <th>director</th>\n",
       "      <th>year</th>\n",
       "    </tr>\n",
       "  </thead>\n",
       "  <tbody>\n",
       "    <tr>\n",
       "      <th>0</th>\n",
       "      <td>Uncut Gems</td>\n",
       "      <td>Josh and Benny Safdie</td>\n",
       "      <td>2019</td>\n",
       "    </tr>\n",
       "    <tr>\n",
       "      <th>1</th>\n",
       "      <td>Uncle Boonmee Who Can Recall His Past Lives</td>\n",
       "      <td>Apichatpong Weerasethakul</td>\n",
       "      <td>2010</td>\n",
       "    </tr>\n",
       "    <tr>\n",
       "      <th>2</th>\n",
       "      <td>Portrait of a Lady on Fire</td>\n",
       "      <td>Celine Sciamma</td>\n",
       "      <td>2019</td>\n",
       "    </tr>\n",
       "  </tbody>\n",
       "</table>\n",
       "</div>"
      ],
      "text/plain": [
       "                                         title                   director  \\\n",
       "0                                   Uncut Gems      Josh and Benny Safdie   \n",
       "1  Uncle Boonmee Who Can Recall His Past Lives  Apichatpong Weerasethakul   \n",
       "2                   Portrait of a Lady on Fire             Celine Sciamma   \n",
       "\n",
       "   year  \n",
       "0  2019  \n",
       "1  2010  \n",
       "2  2019  "
      ]
     },
     "execution_count": 19,
     "metadata": {},
     "output_type": "execute_result"
    }
   ],
   "source": [
    "# Use Pandas to make a new table in your database.\n",
    "d = {'title' : ['Uncut Gems', 'Uncle Boonmee Who Can Recall His Past Lives', 'Portrait of a Lady on Fire'],\n",
    "    'director' : ['Josh and Benny Safdie', 'Apichatpong Weerasethakul', 'Celine Sciamma'],\n",
    "    'year' : [2019, 2010, 2019]\n",
    "    }\n",
    "df = pd.DataFrame(data=d)\n",
    "df.head()"
   ]
  },
  {
   "cell_type": "code",
   "execution_count": 20,
   "metadata": {},
   "outputs": [
    {
     "data": {
      "text/plain": [
       "3"
      ]
     },
     "execution_count": 20,
     "metadata": {},
     "output_type": "execute_result"
    }
   ],
   "source": [
    "df.to_sql('favorite_movies', conn)"
   ]
  },
  {
   "cell_type": "code",
   "execution_count": 21,
   "metadata": {},
   "outputs": [
    {
     "data": {
      "text/html": [
       "<div>\n",
       "<style scoped>\n",
       "    .dataframe tbody tr th:only-of-type {\n",
       "        vertical-align: middle;\n",
       "    }\n",
       "\n",
       "    .dataframe tbody tr th {\n",
       "        vertical-align: top;\n",
       "    }\n",
       "\n",
       "    .dataframe thead th {\n",
       "        text-align: right;\n",
       "    }\n",
       "</style>\n",
       "<table border=\"1\" class=\"dataframe\">\n",
       "  <thead>\n",
       "    <tr style=\"text-align: right;\">\n",
       "      <th></th>\n",
       "      <th>index</th>\n",
       "      <th>title</th>\n",
       "      <th>director</th>\n",
       "      <th>year</th>\n",
       "    </tr>\n",
       "  </thead>\n",
       "  <tbody>\n",
       "    <tr>\n",
       "      <th>0</th>\n",
       "      <td>0</td>\n",
       "      <td>Uncut Gems</td>\n",
       "      <td>Josh and Benny Safdie</td>\n",
       "      <td>2019</td>\n",
       "    </tr>\n",
       "    <tr>\n",
       "      <th>1</th>\n",
       "      <td>1</td>\n",
       "      <td>Uncle Boonmee Who Can Recall His Past Lives</td>\n",
       "      <td>Apichatpong Weerasethakul</td>\n",
       "      <td>2010</td>\n",
       "    </tr>\n",
       "    <tr>\n",
       "      <th>2</th>\n",
       "      <td>2</td>\n",
       "      <td>Portrait of a Lady on Fire</td>\n",
       "      <td>Celine Sciamma</td>\n",
       "      <td>2019</td>\n",
       "    </tr>\n",
       "  </tbody>\n",
       "</table>\n",
       "</div>"
      ],
      "text/plain": [
       "   index                                        title  \\\n",
       "0      0                                   Uncut Gems   \n",
       "1      1  Uncle Boonmee Who Can Recall His Past Lives   \n",
       "2      2                   Portrait of a Lady on Fire   \n",
       "\n",
       "                    director  year  \n",
       "0      Josh and Benny Safdie  2019  \n",
       "1  Apichatpong Weerasethakul  2010  \n",
       "2             Celine Sciamma  2019  "
      ]
     },
     "execution_count": 21,
     "metadata": {},
     "output_type": "execute_result"
    }
   ],
   "source": [
    "pd.read_sql_query('select * from favorite_movies', conn)"
   ]
  },
  {
   "cell_type": "code",
   "execution_count": null,
   "metadata": {},
   "outputs": [],
   "source": []
  }
 ],
 "metadata": {
  "kernelspec": {
   "display_name": "Python 3 (ipykernel)",
   "language": "python",
   "name": "python3"
  },
  "language_info": {
   "codemirror_mode": {
    "name": "ipython",
    "version": 3
   },
   "file_extension": ".py",
   "mimetype": "text/x-python",
   "name": "python",
   "nbconvert_exporter": "python",
   "pygments_lexer": "ipython3",
   "version": "3.9.13"
  }
 },
 "nbformat": 4,
 "nbformat_minor": 2
}
